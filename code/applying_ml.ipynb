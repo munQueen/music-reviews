{
 "cells": [
  {
   "cell_type": "code",
   "execution_count": 2,
   "metadata": {},
   "outputs": [],
   "source": [
    "import pandas as pd\n",
    "import numpy as np\n",
    "import os\n",
    "import scipy.stats\n",
    "import matplotlib.pyplot as plt\n",
    "from sklearn.linear_model import LinearRegression\n",
    "from sklearn.preprocessing import StandardScaler\n",
    "import statsmodels.api as sm\n",
    "from statsmodels.formula.api import ols\n"
   ]
  },
  {
   "cell_type": "code",
   "execution_count": 3,
   "metadata": {},
   "outputs": [],
   "source": [
    "os.chdir('C:\\Learning\\ML\\spotify')\n",
    "full_data = pd.read_csv('full_data.csv').dropna()"
   ]
  },
  {
   "cell_type": "code",
   "execution_count": 6,
   "metadata": {},
   "outputs": [],
   "source": [
    "X = full_data.drop(['review_id', 'album_uri_to_use', 'score', 'artist_name', 'album_name', 'publication_year', 'release_year', 'missing'], axis=1)\n",
    "regression_columns = ['danceability_mean', 'energy_mean', 'loudness_mean', 'speechiness_mean', 'acousticness_mean', \n",
    "                      'instrumentalness_mean', 'liveness_mean', 'valence_mean', 'tempo_mean', 'duration_ms_mean', 'key_max_pct']\n",
    "X = full_data[regression_columns].dropna()\n",
    "y = full_data.score"
   ]
  },
  {
   "cell_type": "code",
   "execution_count": 7,
   "metadata": {},
   "outputs": [],
   "source": [
    "scaler = StandardScaler()\n",
    "X_scaled = scaler.fit_transform(X)"
   ]
  },
  {
   "cell_type": "code",
   "execution_count": 8,
   "metadata": {},
   "outputs": [
    {
     "name": "stdout",
     "output_type": "stream",
     "text": [
      "                            OLS Regression Results                            \n",
      "==============================================================================\n",
      "Dep. Variable:                  score   R-squared:                       0.966\n",
      "Model:                            OLS   Adj. R-squared:                  0.966\n",
      "Method:                 Least Squares   F-statistic:                 3.130e+04\n",
      "Date:                Tue, 03 Sep 2019   Prob (F-statistic):               0.00\n",
      "Time:                        21:53:05   Log-Likelihood:                -20748.\n",
      "No. Observations:               12290   AIC:                         4.152e+04\n",
      "Df Residuals:                   12279   BIC:                         4.160e+04\n",
      "Df Model:                          11                                         \n",
      "Covariance Type:            nonrobust                                         \n",
      "=========================================================================================\n",
      "                            coef    std err          t      P>|t|      [0.025      0.975]\n",
      "-----------------------------------------------------------------------------------------\n",
      "danceability_mean         0.5585      0.110      5.067      0.000       0.342       0.775\n",
      "energy_mean               2.6779      0.133     20.176      0.000       2.418       2.938\n",
      "loudness_mean            -0.1207      0.006    -21.891      0.000      -0.131      -0.110\n",
      "speechiness_mean          0.8717      0.185      4.709      0.000       0.509       1.235\n",
      "acousticness_mean         1.5688      0.070     22.349      0.000       1.431       1.706\n",
      "instrumentalness_mean     0.3179      0.053      5.972      0.000       0.214       0.422\n",
      "liveness_mean             0.4544      0.146      3.114      0.002       0.168       0.740\n",
      "valence_mean              0.0507      0.106      0.480      0.631      -0.156       0.258\n",
      "tempo_mean                0.0226      0.001     26.160      0.000       0.021       0.024\n",
      "duration_ms_mean       9.624e-07   1.04e-07      9.222      0.000    7.58e-07    1.17e-06\n",
      "key_max_pct               0.5552      0.117      4.745      0.000       0.326       0.785\n",
      "==============================================================================\n",
      "Omnibus:                     2179.513   Durbin-Watson:                   2.041\n",
      "Prob(Omnibus):                  0.000   Jarque-Bera (JB):             4643.434\n",
      "Skew:                          -1.045   Prob(JB):                         0.00\n",
      "Kurtosis:                       5.167   Cond. No.                     4.97e+06\n",
      "==============================================================================\n",
      "\n",
      "Warnings:\n",
      "[1] Standard Errors assume that the covariance matrix of the errors is correctly specified.\n",
      "[2] The condition number is large, 4.97e+06. This might indicate that there are\n",
      "strong multicollinearity or other numerical problems.\n"
     ]
    }
   ],
   "source": [
    "reg = sm.OLS(y, X).fit()\n",
    "print(reg.summary())"
   ]
  },
  {
   "cell_type": "code",
   "execution_count": 9,
   "metadata": {},
   "outputs": [
    {
     "name": "stdout",
     "output_type": "stream",
     "text": [
      "                            OLS Regression Results                            \n",
      "==============================================================================\n",
      "Dep. Variable:                  score   R-squared:                       0.001\n",
      "Model:                            OLS   Adj. R-squared:                  0.000\n",
      "Method:                 Least Squares   F-statistic:                     1.466\n",
      "Date:                Tue, 03 Sep 2019   Prob (F-statistic):              0.137\n",
      "Time:                        21:54:02   Log-Likelihood:                -41441.\n",
      "No. Observations:               12290   AIC:                         8.290e+04\n",
      "Df Residuals:                   12279   BIC:                         8.299e+04\n",
      "Df Model:                          11                                         \n",
      "Covariance Type:            nonrobust                                         \n",
      "==============================================================================\n",
      "                 coef    std err          t      P>|t|      [0.025      0.975]\n",
      "------------------------------------------------------------------------------\n",
      "x1            -0.1267      0.092     -1.381      0.167      -0.307       0.053\n",
      "x2            -0.0670      0.167     -0.401      0.689      -0.395       0.261\n",
      "x3            -0.0297      0.134     -0.222      0.824      -0.291       0.232\n",
      "x4             0.1029      0.076      1.348      0.178      -0.047       0.253\n",
      "x5             0.0763      0.107      0.714      0.476      -0.133       0.286\n",
      "x6             0.1669      0.082      2.025      0.043       0.005       0.329\n",
      "x7             0.0033      0.073      0.046      0.964      -0.141       0.147\n",
      "x8             0.0964      0.099      0.968      0.333      -0.099       0.291\n",
      "x9             0.0270      0.074      0.366      0.715      -0.118       0.172\n",
      "x10            0.0529      0.072      0.739      0.460      -0.087       0.193\n",
      "x11           -0.0158      0.066     -0.237      0.812      -0.146       0.114\n",
      "==============================================================================\n",
      "Omnibus:                     2743.092   Durbin-Watson:                   0.064\n",
      "Prob(Omnibus):                  0.000   Jarque-Bera (JB):             6861.504\n",
      "Skew:                          -1.225   Prob(JB):                         0.00\n",
      "Kurtosis:                       5.720   Cond. No.                         6.21\n",
      "==============================================================================\n",
      "\n",
      "Warnings:\n",
      "[1] Standard Errors assume that the covariance matrix of the errors is correctly specified.\n"
     ]
    }
   ],
   "source": [
    "reg_scaled = sm.OLS(y, X_scaled).fit()\n",
    "print(reg_scaled.summary())"
   ]
  },
  {
   "cell_type": "markdown",
   "metadata": {},
   "source": [
    "Comparing the fitted values w/actual values from the two models:"
   ]
  }
 ],
 "metadata": {
  "kernelspec": {
   "display_name": "Python 3",
   "language": "python",
   "name": "python3"
  },
  "language_info": {
   "codemirror_mode": {
    "name": "ipython",
    "version": 3
   },
   "file_extension": ".py",
   "mimetype": "text/x-python",
   "name": "python",
   "nbconvert_exporter": "python",
   "pygments_lexer": "ipython3",
   "version": "3.7.1"
  }
 },
 "nbformat": 4,
 "nbformat_minor": 2
}
